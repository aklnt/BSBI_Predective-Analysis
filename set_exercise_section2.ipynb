{
  "nbformat": 4,
  "nbformat_minor": 0,
  "metadata": {
    "colab": {
      "provenance": [],
      "name": "set_exercise_section2.ipynb",
      "authorship_tag": "ABX9TyPwIDyBk/aVg/+CBfsDSrmj",
      "include_colab_link": true
    },
    "kernelspec": {
      "name": "python3",
      "display_name": "Python 3"
    },
    "language_info": {
      "name": "python"
    }
  },
  "cells": [
    {
      "cell_type": "markdown",
      "metadata": {
        "id": "view-in-github",
        "colab_type": "text"
      },
      "source": [
        "<a href=\"https://colab.research.google.com/github/aklnt/BSBI_Predective-Analysis/blob/main/set_exercise_section2.ipynb\" target=\"_parent\"><img src=\"https://colab.research.google.com/assets/colab-badge.svg\" alt=\"Open In Colab\"/></a>"
      ]
    },
    {
      "cell_type": "code",
      "execution_count": 2,
      "metadata": {
        "id": "1iDEPSx4DHBK"
      },
      "outputs": [],
      "source": [
        "#importing panda for loading and reading dataset\n",
        "import pandas as pd\n",
        "\n",
        "#imorting for modeling and encoding\n",
        "from sklearn.model_selection import train_test_split\n",
        "from sklearn.preprocessing import LabelEncoder\n",
        "\n",
        "#imporintg models for each alogrithm\n",
        "from sklearn.naive_bayes import GaussianNB\n",
        "from sklearn.ensemble import RandomForestClassifier\n",
        "from sklearn.tree import DecisionTreeClassifier\n",
        "from sklearn.linear_model import LogisticRegression\n",
        "from sklearn.svm import SVC\n",
        "from sklearn.neighbors import KNeighborsClassifier\n",
        "from xgboost import XGBClassifier\n",
        "#importing metrics for final result\n",
        "\n",
        "from sklearn.metrics import accuracy_score, precision_score, recall_score, f1_score\n"
      ]
    },
    {
      "cell_type": "code",
      "source": [
        "file_path = 'https://github.com/usmanakhtar/Mushrooms-dataset/raw/main/mushrooms.csv'\n",
        "df = pd.read_csv(file_path)\n",
        "label_encoder = LabelEncoder()\n",
        "for column in df.columns:\n",
        "        df[column] = label_encoder.fit_transform(df[column])\n",
        "X = df.iloc[:, 1:]\n",
        "y = df.iloc[:, 0]\n",
        "X_train, X_test, y_train, y_test = train_test_split(X, y, test_size=0.3, random_state=42)"
      ],
      "metadata": {
        "id": "1CCN6Vz5IErK"
      },
      "execution_count": 3,
      "outputs": []
    },
    {
      "cell_type": "code",
      "source": [
        "#helper function to calculate metrics\n",
        "def calculate_metrics(y_test, predictions):\n",
        "    accuracy = accuracy_score(y_test, predictions)\n",
        "    precision = precision_score(y_test, predictions, average='weighted')\n",
        "    recall = recall_score(y_test, predictions, average='weighted')\n",
        "    f1 = f1_score(y_test, predictions, average='weighted')\n",
        "    return accuracy, precision, recall, f1"
      ],
      "metadata": {
        "id": "gqpbUsArEzXx"
      },
      "execution_count": 5,
      "outputs": []
    },
    {
      "cell_type": "code",
      "source": [
        "#defining function to implement algorithm\n",
        "def gaussian_naive_bayes(X_train, X_test, y_train, y_test):\n",
        "    model = GaussianNB()\n",
        "    model.fit(X_train, y_train)\n",
        "    predictions = model.predict(X_test)\n",
        "    return calculate_metrics(y_test, predictions)\n",
        "\n",
        "#using function\n",
        "accuracy, precision, recall, f1 = gaussian_naive_bayes(X_train, X_test, y_train, y_test)\n",
        "\n",
        "#printing results\n",
        "print('Gaussian Naive Bayes :')\n",
        "print(f\"Accuracy: {accuracy:.2f}\")\n",
        "print(f\"Precision: {precision:.2f}\")\n",
        "print(f\"Recall: {recall:.2f}\")\n",
        "print(f\"F1-Score: {f1:.2f}\")"
      ],
      "metadata": {
        "colab": {
          "base_uri": "https://localhost:8080/"
        },
        "id": "bIaWJUbCE1xZ",
        "outputId": "f9200c5a-3e50-4871-eab3-27896768b935"
      },
      "execution_count": 16,
      "outputs": [
        {
          "output_type": "stream",
          "name": "stdout",
          "text": [
            "Gaussian Naive Bayes :\n",
            "Accuracy: 0.92\n",
            "Precision: 0.92\n",
            "Recall: 0.92\n",
            "F1-Score: 0.92\n"
          ]
        }
      ]
    },
    {
      "cell_type": "code",
      "source": [
        "#defining function to implement algorithm\n",
        "def random_forest(X_train, X_test, y_train, y_test):\n",
        "    model = RandomForestClassifier(random_state=42)\n",
        "    model.fit(X_train, y_train)\n",
        "    predictions = model.predict(X_test)\n",
        "    return calculate_metrics(y_test, predictions)\n",
        "\n",
        "#using function\n",
        "accuracy, precision, recall, f1 = random_forest(X_train, X_test, y_train, y_test)\n",
        "\n",
        "#printing results\n",
        "print('Random Forest :')\n",
        "print(f\"Accuracy: {accuracy:.2f}\")\n",
        "print(f\"Precision: {precision:.2f}\")\n",
        "print(f\"Recall: {recall:.2f}\")\n",
        "print(f\"F1-Score: {f1:.2f}\")"
      ],
      "metadata": {
        "colab": {
          "base_uri": "https://localhost:8080/"
        },
        "id": "e-1Ee_M9E4RN",
        "outputId": "552b910e-c21b-4420-bec8-76f980a08567"
      },
      "execution_count": 17,
      "outputs": [
        {
          "output_type": "stream",
          "name": "stdout",
          "text": [
            "Random Forest :\n",
            "Accuracy: 1.00\n",
            "Precision: 1.00\n",
            "Recall: 1.00\n",
            "F1-Score: 1.00\n"
          ]
        }
      ]
    },
    {
      "cell_type": "code",
      "source": [
        "#defining function to implement algorithm\n",
        "def decision_tree(X_train, X_test, y_train, y_test):\n",
        "    model = DecisionTreeClassifier(random_state=42)\n",
        "    model.fit(X_train, y_train)\n",
        "    predictions = model.predict(X_test)\n",
        "    return calculate_metrics(y_test, predictions)\n",
        "\n",
        "#using function\n",
        "accuracy, precision, recall, f1 = decision_tree(X_train, X_test, y_train, y_test)\n",
        "\n",
        "#printing results\n",
        "print('Decision Tree :')\n",
        "print(f\"Accuracy: {accuracy:.2f}\")\n",
        "print(f\"Precision: {precision:.2f}\")\n",
        "print(f\"Recall: {recall:.2f}\")\n",
        "print(f\"F1-Score: {f1:.2f}\")"
      ],
      "metadata": {
        "colab": {
          "base_uri": "https://localhost:8080/"
        },
        "id": "xp4MhYmFE6Wr",
        "outputId": "73c5701d-1041-4069-9348-eaefd88d64fe"
      },
      "execution_count": 18,
      "outputs": [
        {
          "output_type": "stream",
          "name": "stdout",
          "text": [
            "Decision Tree :\n",
            "Accuracy: 1.00\n",
            "Precision: 1.00\n",
            "Recall: 1.00\n",
            "F1-Score: 1.00\n"
          ]
        }
      ]
    },
    {
      "cell_type": "code",
      "source": [
        "#defining function to implement algorithm\n",
        "def logistic_regression(X_train, X_test, y_train, y_test):\n",
        "    model = LogisticRegression(max_iter=1000, random_state=42)\n",
        "    model.fit(X_train, y_train)\n",
        "    predictions = model.predict(X_test)\n",
        "    return calculate_metrics(y_test, predictions)\n",
        "\n",
        "#using function\n",
        "accuracy, precision, recall, f1 = logistic_regression(X_train, X_test, y_train, y_test)\n",
        "\n",
        "#printing results\n",
        "print('Logistic Regression :')\n",
        "print(f\"Accuracy: {accuracy:.2f}\")\n",
        "print(f\"Precision: {precision:.2f}\")\n",
        "print(f\"Recall: {recall:.2f}\")\n",
        "print(f\"F1-Score: {f1:.2f}\")"
      ],
      "metadata": {
        "colab": {
          "base_uri": "https://localhost:8080/"
        },
        "id": "hvzdwnNwE8Hp",
        "outputId": "ffb5b41d-84a9-4a1c-fce3-59ad6aaeee9f"
      },
      "execution_count": 19,
      "outputs": [
        {
          "output_type": "stream",
          "name": "stdout",
          "text": [
            "Logistic Regression :\n",
            "Accuracy: 0.95\n",
            "Precision: 0.95\n",
            "Recall: 0.95\n",
            "F1-Score: 0.95\n"
          ]
        }
      ]
    },
    {
      "cell_type": "code",
      "source": [
        "#defining function to implement algorithm\n",
        "def support_vector_classification(X_train, X_test, y_train, y_test):\n",
        "    model = SVC(random_state=42)\n",
        "    model.fit(X_train, y_train)\n",
        "    predictions = model.predict(X_test)\n",
        "    return calculate_metrics(y_test, predictions)\n",
        "\n",
        "#using function\n",
        "accuracy, precision, recall, f1 = support_vector_classification(X_train, X_test, y_train, y_test)\n",
        "\n",
        "#printing results\n",
        "print('Support Vector Classification :')\n",
        "print(f\"Accuracy: {accuracy:.2f}\")\n",
        "print(f\"Precision: {precision:.2f}\")\n",
        "print(f\"Recall: {recall:.2f}\")\n",
        "print(f\"F1-Score: {f1:.2f}\")"
      ],
      "metadata": {
        "colab": {
          "base_uri": "https://localhost:8080/"
        },
        "id": "BN3xx-F9E9vB",
        "outputId": "f998084f-09b5-442f-bc8f-1e32f314baee"
      },
      "execution_count": 20,
      "outputs": [
        {
          "output_type": "stream",
          "name": "stdout",
          "text": [
            "Support Vector Classification :\n",
            "Accuracy: 0.99\n",
            "Precision: 0.99\n",
            "Recall: 0.99\n",
            "F1-Score: 0.99\n"
          ]
        }
      ]
    },
    {
      "cell_type": "code",
      "source": [
        "#defining function to implement algorithm\n",
        "def k_nearest_neighbors(X_train, X_test, y_train, y_test):\n",
        "    model = KNeighborsClassifier()\n",
        "    model.fit(X_train, y_train)\n",
        "    print(\"Training accuracy:\", model.score(X_train, y_train))\n",
        "    print(\"Test accuracy:\", model.score(X_test, y_test))\n",
        "    predictions = model.predict(X_test)\n",
        "    return calculate_metrics(y_test, predictions)\n",
        "\n",
        "#using function\n",
        "accuracy, precision, recall, f1 = k_nearest_neighbors(X_train, X_test, y_train, y_test)\n",
        "\n",
        "#printing results\n",
        "print('K Nearest neighbors :')\n",
        "print(f\"Accuracy: {accuracy:.2f}\")\n",
        "print(f\"Precision: {precision:.2f}\")\n",
        "print(f\"Recall: {recall:.2f}\")\n",
        "print(f\"F1-Score: {f1:.2f}\")\n",
        "\n"
      ],
      "metadata": {
        "colab": {
          "base_uri": "https://localhost:8080/"
        },
        "id": "U3LjqedUE_tt",
        "outputId": "68cc2db7-4824-46c5-931a-8987b3930d66"
      },
      "execution_count": 7,
      "outputs": [
        {
          "output_type": "stream",
          "name": "stdout",
          "text": [
            "Training accuracy: 0.9992965177629265\n",
            "Test accuracy: 0.9958982772764561\n",
            "K Nearest neighbors :\n",
            "Accuracy: 1.00\n",
            "Precision: 1.00\n",
            "Recall: 1.00\n",
            "F1-Score: 1.00\n"
          ]
        }
      ]
    },
    {
      "cell_type": "code",
      "source": [
        "#defining function to implement algorithm\n",
        "def xgboost(X_train, X_test, y_train, y_test):\n",
        "    model = XGBClassifier(use_label_encoder=False, eval_metric='logloss', random_state=42)\n",
        "    model.fit(X_train, y_train)\n",
        "    print(\"Training accuracy:\", model.score(X_train, y_train))\n",
        "    print(\"Test accuracy:\", model.score(X_test, y_test))\n",
        "    predictions = model.predict(X_test)\n",
        "    return calculate_metrics(y_test, predictions)\n",
        "\n",
        "#using function\n",
        "accuracy, precision, recall, f1 = xgboost(X_train, X_test, y_train, y_test)\n",
        "\n",
        "#printing results\n",
        "print('XGBoost :')\n",
        "print(f\"Accuracy: {accuracy:.2f}\")\n",
        "print(f\"Precision: {precision:.2f}\")\n",
        "print(f\"Recall: {recall:.2f}\")\n",
        "print(f\"F1-Score: {f1:.2f}\")"
      ],
      "metadata": {
        "colab": {
          "base_uri": "https://localhost:8080/"
        },
        "id": "32D3qK9ZFBdZ",
        "outputId": "9a286d02-d2a9-43a7-b8d2-2bf0933a116d"
      },
      "execution_count": 8,
      "outputs": [
        {
          "output_type": "stream",
          "name": "stderr",
          "text": [
            "/usr/local/lib/python3.11/dist-packages/xgboost/core.py:158: UserWarning: [05:59:22] WARNING: /workspace/src/learner.cc:740: \n",
            "Parameters: { \"use_label_encoder\" } are not used.\n",
            "\n",
            "  warnings.warn(smsg, UserWarning)\n"
          ]
        },
        {
          "output_type": "stream",
          "name": "stdout",
          "text": [
            "Training accuracy: 1.0\n",
            "Test accuracy: 1.0\n",
            "XGBoost :\n",
            "Accuracy: 1.00\n",
            "Precision: 1.00\n",
            "Recall: 1.00\n",
            "F1-Score: 1.00\n"
          ]
        }
      ]
    }
  ]
}